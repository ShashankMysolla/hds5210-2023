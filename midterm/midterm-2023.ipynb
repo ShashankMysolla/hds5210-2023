{
  "cells": [
    {
      "cell_type": "markdown",
      "metadata": {
        "id": "St8S1BRkdtGG"
      },
      "source": [
        "# HDS5210-2022 Midterm\n",
        "\n",
        "In the midterm, you're going to use all the programming and data management skills you've developed so far to build a risk calculator that pretends to be integrated with a clinical registry.  You'll compute the PRIEST COVID-19 Clinical Severity Score for a series of patients and, based on their risk of an adverse outcome, query a REST web service to find a hospital to transfer them to. The end result of your work will be a list of instructions on where each patient should be discharged given their risk and various characteristics of the patient.\n",
        "\n",
        "Each step in the midterm will build up to form your complete solution.\n",
        "\n",
        "**Make sure you write good docstrings and doctests along the way!!**\n",
        "\n",
        "**The midterm is due at 11:59 PM CST on Monday, October 23rd.**\n",
        "\n",
        "---"
      ]
    },
    {
      "cell_type": "markdown",
      "metadata": {
        "id": "8POeYwdCdtGH"
      },
      "source": [
        "## Step 1: Calculate PRIEST Clinical Severity Score\n",
        "\n",
        "This scoring algorithm can be found [here on the MDCalc website](https://www.mdcalc.com/priest-covid-19-clinical-severity-score#evidence).  \n",
        "\n",
        "1. You will need to write a function called **priest()** with the following input parameters.  \n",
        " * Sex (Gender assigned at birth)\n",
        " * Age in years\n",
        " * Respiratory rate in breaths per minute\n",
        " * Oxygen saturation as a percent between 0 and 1\n",
        " * Heart rate in beats per minute\n",
        " * Systolic BP in mmHg\n",
        " * Temperature in degrees C\n",
        " * Alertness as a string description\n",
        " * Inspired Oxygen as as string description\n",
        " * Performance Status as a string description\n",
        "2. The function will need to follow the algorithm provided on the MDCalc website to compute a risk percentage that should be returned as a numeric value between 0 and 1.\n",
        "3. Be sure to use docstring documentation and at least three built-in docstring test cases.\n",
        "4. Assume that the input values that are strings could be any combination of upper or lower case. For example: 'male', 'Male', 'MALE', 'MalE' should all be interpretted by your code as male.\n",
        "5. If any of the inputs are invalid (for example a sex value that is not recognizable as male or female) your code should return None.\n",
        "\n",
        "NOTES:\n",
        "1. In the final step there is a table that translates from **PRIEST Score** to **30-day probability of an outcome** but the last two probabilities are shown as ranges (59-88% and >99%).  Our code needs to output a single number, however. For our code, use the following rule:\n",
        " * If PRIEST score is between 17 and 25, the probability you return should be 0.59\n",
        " * If PRIEST score is greater than or equal to 26, the probability you return should be 0.99\n"
      ]
    },
    {
      "cell_type": "code",
      "execution_count": 93,
      "metadata": {
        "id": "0kebcBx7dtGH"
      },
      "outputs": [],
      "source": [
        "def priest(sex,age_years,resp_rate_per_minute,oxy_saturation,heart_rate_bpm,BP_systolic,temp_c,alertness,insp_oxygen,perf_status):\n",
        "\n",
        "  \"\"\"(str,int,int,float,int,int,int,str,str,str)-->int\n",
        "  This function uses the logic from https://colab.research.google.com/corgiredirector?site=https%3A%2F%2Fwww.mdcalc.com%2Fpriest-covid-19-clinical-severity-score%23evidence\n",
        "  to compute a risk percentage\n",
        "\n",
        "  Parameters:\n",
        "  sex (str) = Sex (Gender assigned at birth)\n",
        "  age_years (int)=Age in years\n",
        "  resp_rate_per_minute (int) = Respiratory rate in breaths per minute\n",
        "  oxy_saturation (float) = Oxygen saturation as a percent between 0 and 1\n",
        "  heart_rate_bpm (int) = Heart rate in beats per minute\n",
        "  BP_systolic (int) = Systolic BP in mmHg\n",
        "  temp_c (int) = Temperature in degrees C\n",
        "  alertness (str) = Alertness as a string description\n",
        "  insp_oxygen (str) = Inspired Oxygen as as string description\n",
        "  perf_status (str) = Performance Status as a string description\n",
        "\n",
        "\n",
        "  >>> priest(\"male\", 66, 25, 0.93, 140, 100, 36, \"alert\", \"air\", \"limited_self_care\")\n",
        "  0.59\n",
        "\n",
        "  >>> priest(\"female\", 75, 22, 0.88, 105, 85, 40, \"not_alert\", \"supplemental_oxygen\", \"limited_activity\" )\n",
        "  0.59\n",
        "\n",
        "  >>> priest(\"male\", 85, 40, 0.85, 131, 70, 40, \"not_alert\", \"supplemental_oxygen\",\"Bed_chair_bound\")\n",
        "  0.99\n",
        "\n",
        "\n",
        "  \"\"\"\n",
        "\n",
        "  priest_score = 0\n",
        "\n",
        "  sex = sex.lower()\n",
        "\n",
        "  if sex ==\"female\":\n",
        "      priest_score += 0\n",
        "  elif sex ==\"male\":\n",
        "      priest_score += 1\n",
        "  else:\n",
        "    return \"None\"\n",
        "\n",
        "\n",
        "  if age_years >= 16 and age_years <= 49 :\n",
        "     priest_score += 0\n",
        "  elif age_years >= 50 and age_years <= 65 :\n",
        "     priest_score += 2\n",
        "  elif age_years >= 66 and age_years <= 80 :\n",
        "     priest_score += 3\n",
        "  elif age_years >= 81 :\n",
        "     priest_score += 4\n",
        "\n",
        "\n",
        "  if resp_rate_per_minute <= 8:\n",
        "     priest_score += 3\n",
        "  elif resp_rate_per_minute >= 9 and resp_rate_per_minute <= 11 :\n",
        "     priest_score += 1\n",
        "  elif resp_rate_per_minute >= 12 and resp_rate_per_minute <= 20 :\n",
        "     priest_score += 0\n",
        "  elif resp_rate_per_minute >= 21 and resp_rate_per_minute <= 24 :\n",
        "     priest_score += 2\n",
        "  elif resp_rate_per_minute >= 25 :\n",
        "     priest_score += 3\n",
        "\n",
        "\n",
        "  if oxy_saturation >= 0.95:\n",
        "     priest_score += 0\n",
        "  elif oxy_saturation >= 0.94 or oxy_saturation <= 0.95 :\n",
        "     priest_score += 1\n",
        "  elif oxy_saturation >= 0.92 or oxy_saturation <= 0.93 :\n",
        "     priest_score += 2\n",
        "  elif oxy_saturation <= 0.91 :\n",
        "     priest_score += 3\n",
        "\n",
        "\n",
        "  if heart_rate_bpm <= 40:\n",
        "     priest_score += 3\n",
        "  elif heart_rate_bpm >= 41 and heart_rate_bpm <= 50 :\n",
        "     priest_score += 1\n",
        "  elif heart_rate_bpm >= 51 and heart_rate_bpm <= 90 :\n",
        "     priest_score += 0\n",
        "  elif heart_rate_bpm >= 91 and heart_rate_bpm <= 110 :\n",
        "     priest_score += 1\n",
        "  elif heart_rate_bpm >= 111 and heart_rate_bpm <= 130 :\n",
        "     priest_score += 2\n",
        "  elif heart_rate_bpm >= 131 :\n",
        "     priest_score += 3\n",
        "\n",
        "\n",
        "  if BP_systolic <= 90:\n",
        "     priest_score += 3\n",
        "  elif BP_systolic >= 91 and BP_systolic <= 100 :\n",
        "     priest_score += 2\n",
        "  elif BP_systolic >= 101 and BP_systolic <= 110 :\n",
        "     priest_score += 1\n",
        "  elif BP_systolic >= 111 and BP_systolic <= 219 :\n",
        "     priest_score += 0\n",
        "  elif BP_systolic >= 220 :\n",
        "     priest_score += 3\n",
        "\n",
        "  if temp_c <= 34:\n",
        "     priest_score += 3\n",
        "  elif temp_c >= 35 and temp_c <= 36 :\n",
        "     priest_score += 1\n",
        "  elif temp_c > 36 and temp_c <= 38 :\n",
        "     priest_score += 0\n",
        "  elif temp_c >= 38 and temp_c <=39 :\n",
        "     priest_score += 1\n",
        "  elif temp_c >= 40 :\n",
        "     priest_score += 2\n",
        "\n",
        "  if alertness==\"alert\":\n",
        "     priest_score += 0\n",
        "  elif alertness ==\"confused\" or alertness ==\"not_alert\" :\n",
        "     priest_score += 3\n",
        "\n",
        "  if insp_oxygen==\"air\":\n",
        "     priest_score += 0\n",
        "  elif insp_oxygen ==\"supplemental_oxygen\" :\n",
        "     priest_score += 2\n",
        "\n",
        "  if perf_status==\"unrestricted_normal_activity\":\n",
        "     priest_score += 0\n",
        "  elif perf_status ==\"limited_strenuous_activity\" :\n",
        "     priest_score += 1\n",
        "  elif perf_status ==\"limited_activity\" :\n",
        "     priest_score += 2\n",
        "  elif perf_status ==\"limited_self_care\" :\n",
        "     priest_score += 3\n",
        "  elif perf_status ==\"Bed_chair_bound\" :\n",
        "     priest_score += 4\n",
        "\n",
        "\n",
        "  if priest_score >= 17 and priest_score <= 25 :\n",
        "    return 0.59\n",
        "  elif priest_score >= 26:\n",
        "    return 0.99"
      ]
    },
    {
      "cell_type": "code",
      "source": [
        "assert priest(\"male\", 66, 25, 0.93, 140, 100, 36, \"alert\", \"air\", \"limited_self_care\") == 0.59\n",
        "assert priest(\"female\", 75, 22, 0.88, 105, 85, 40, \"not_alert\", \"supplemental_oxygen\", \"limited_activity\" )  == 0.59\n",
        "assert priest(\"male\", 85, 40, 0.85, 131, 70, 40, \"not_alert\", \"supplemental_oxygen\",\"Bed_chair_bound\") == 0.99"
      ],
      "metadata": {
        "id": "0cVfV4qsKviG"
      },
      "execution_count": 94,
      "outputs": []
    },
    {
      "cell_type": "code",
      "execution_count": 95,
      "metadata": {
        "id": "5Yr-IlEVdtGI",
        "outputId": "6b40a5c6-68a5-45ad-c72a-4ca4412d0cc6",
        "colab": {
          "base_uri": "https://localhost:8080/"
        }
      },
      "outputs": [
        {
          "output_type": "stream",
          "name": "stdout",
          "text": [
            "Finding tests in NoName\n",
            "Trying:\n",
            "    priest(\"male\", 66, 25, 0.93, 140, 100, 36, \"alert\", \"air\", \"limited_self_care\")\n",
            "Expecting:\n",
            "    0.59\n",
            "ok\n",
            "Trying:\n",
            "    priest(\"female\", 75, 22, 0.88, 105, 85, 40, \"not_alert\", \"supplemental_oxygen\", \"limited_activity\" )\n",
            "Expecting:\n",
            "    0.59 \n",
            "**********************************************************************\n",
            "File \"__main__\", line 23, in NoName\n",
            "Failed example:\n",
            "    priest(\"female\", 75, 22, 0.88, 105, 85, 40, \"not_alert\", \"supplemental_oxygen\", \"limited_activity\" )\n",
            "Expected:\n",
            "    0.59 \n",
            "Got:\n",
            "    0.59\n",
            "Trying:\n",
            "    priest(\"male\", 85, 40, 0.85, 131, 70, 40, \"not_alert\", \"supplemental_oxygen\",\"Bed_chair_bound\")\n",
            "Expecting:\n",
            "    0.99 \n",
            "**********************************************************************\n",
            "File \"__main__\", line 26, in NoName\n",
            "Failed example:\n",
            "    priest(\"male\", 85, 40, 0.85, 131, 70, 40, \"not_alert\", \"supplemental_oxygen\",\"Bed_chair_bound\")\n",
            "Expected:\n",
            "    0.99 \n",
            "Got:\n",
            "    0.99\n"
          ]
        }
      ],
      "source": [
        "import doctest\n",
        "doctest.run_docstring_examples(priest, globals(),verbose=True)"
      ]
    },
    {
      "cell_type": "markdown",
      "metadata": {
        "id": "vGW_e6txdtGI"
      },
      "source": [
        "## Part 2: Find a hospital\n",
        "\n",
        "The next thing we have to do is figure out where to send this particular patient.  The guidelines on where to send a patient are based on their age (pediatric, adult, geriatric), sex, and risk percentage.  Luckily, you don't have to implement these rules. I already have. All you have to do is use a REST web service that I've created for you.\n",
        "\n",
        "You'll want to use Python to make a call to my REST web service similar to the example URL below. The first part of the URL will be the same for everyone and every request that you make. What you will need to modify for each of your requests is the information after the question mark.\n",
        "\n",
        "```\n",
        "https://oumdj6oci2.execute-api.us-east-1.amazonaws.com/prd/?age=40&sex=male&risk_pct=0.1\n",
        "```\n",
        "\n",
        "The example above asks my web service where a 40-year old male with a risk of 10% should go.  What the web service will return back is a JSON string containing the information you need.  That JSON will look like this:\n",
        "\n",
        "```json\n",
        "{\n",
        "  \"age\": \"40\",\n",
        "  \"sex\": \"male\",\n",
        "  \"risk\": \"0.1\",\n",
        "  \"hospital\": \"Southwest Hospital and Medical Center\"\n",
        "}\n",
        "```\n",
        "\n",
        "My function is not smart enough to understand `'MALE'` is the same as `'male'`.  You have to send it exactly `'male'` or `'female'`\n",
        "\n",
        "1. Your job is to write a function called **find_hospital()** that takes age, sex, and risk as parameters.\n",
        "2. Your function should call this REST web service using the `requests` module\n",
        "3. Then your function will need to interpret the JSON it gets and return just the name of the hospital\n",
        "4. If anything fails, return None\n",
        "5. Include a good docstring with at least three test cases.\n"
      ]
    },
    {
      "cell_type": "code",
      "execution_count": 96,
      "metadata": {
        "id": "t_WpIu3rdtGI"
      },
      "outputs": [],
      "source": [
        "import requests\n",
        "import json\n",
        "\n",
        "def find_hospital(age,sex,risk):\n",
        "  \"\"\"(int,str,float)-->str\n",
        "  This function uses the logic from https://oumdj6oci2.execute-api.us-east-1.amazonaws.com/prd/?age={age}&sex={sex}&risk_pct={risk}\n",
        "  to find hospital name\n",
        "\n",
        "  Parameters:\n",
        "  age ->(int)\n",
        "  sex-->(str)\n",
        "  risk-->(float)\n",
        "\n",
        "  >>> find_hospital(40, 'male', 0.1)\n",
        "  \"Southwest Hospital and Medical Center\"\n",
        "\n",
        "  >>> find_hospital(35, 'female', 0.3)\n",
        "  \"Select Specialty Hospital - Northeast Atlanta\"\n",
        "\n",
        "  >>> find_hospital(50, 'MALE', 0.8)\n",
        "  \"Emory Dunwoody Medical Center\"\n",
        "\n",
        "\n",
        "  \"\"\"\n",
        "\n",
        "  url = f\"https://oumdj6oci2.execute-api.us-east-1.amazonaws.com/prd/?age={age}&sex={sex}&risk_pct={risk}\"\n",
        "  response = requests.get(url)\n",
        "  sex = sex.lower()\n",
        "  hospital_name = response.json()['hospital']\n",
        "\n",
        "\n",
        "  return hospital_name"
      ]
    },
    {
      "cell_type": "code",
      "source": [
        "assert find_hospital(40, 'male', 0.1)\n",
        "\n",
        "assert find_hospital(35, 'female', 0.3)\n",
        "\n",
        "assert find_hospital(50, 'MALE', 0.8)"
      ],
      "metadata": {
        "id": "9rsULqnM-eYd"
      },
      "execution_count": 97,
      "outputs": []
    },
    {
      "cell_type": "code",
      "execution_count": 98,
      "metadata": {
        "id": "T1ks_4KUdtGI",
        "outputId": "2e4a5166-1b13-49d0-cb47-dc1a1d180d6f",
        "colab": {
          "base_uri": "https://localhost:8080/"
        }
      },
      "outputs": [
        {
          "output_type": "stream",
          "name": "stdout",
          "text": [
            "Finding tests in NoName\n",
            "Trying:\n",
            "    find_hospital(40, 'male', 0.1)\n",
            "Expecting:\n",
            "    \"Southwest Hospital and Medical Center\"\n",
            "**********************************************************************\n",
            "File \"__main__\", line 14, in NoName\n",
            "Failed example:\n",
            "    find_hospital(40, 'male', 0.1)\n",
            "Expected:\n",
            "    \"Southwest Hospital and Medical Center\"\n",
            "Got:\n",
            "    'Southwest Hospital and Medical Center'\n",
            "Trying:\n",
            "    find_hospital(35, 'female', 0.3)\n",
            "Expecting:\n",
            "    \"Select Specialty Hospital - Northeast Atlanta\"\n",
            "**********************************************************************\n",
            "File \"__main__\", line 17, in NoName\n",
            "Failed example:\n",
            "    find_hospital(35, 'female', 0.3)\n",
            "Expected:\n",
            "    \"Select Specialty Hospital - Northeast Atlanta\"\n",
            "Got:\n",
            "    'Select Specialty Hospital - Northeast Atlanta'\n",
            "Trying:\n",
            "    find_hospital(50, 'MALE', 0.8)\n",
            "Expecting:\n",
            "    \"Emory Dunwoody Medical Center\"\n",
            "**********************************************************************\n",
            "File \"__main__\", line 20, in NoName\n",
            "Failed example:\n",
            "    find_hospital(50, 'MALE', 0.8)\n",
            "Expected:\n",
            "    \"Emory Dunwoody Medical Center\"\n",
            "Got:\n",
            "    'Emory Dunwoody Medical Center'\n"
          ]
        }
      ],
      "source": [
        "import doctest\n",
        "doctest.run_docstring_examples(find_hospital, globals(),verbose=True)"
      ]
    },
    {
      "cell_type": "markdown",
      "metadata": {
        "id": "3b3VrN2PdtGI"
      },
      "source": [
        "## Part 3: Get the address for that hospital from a JSON file\n",
        "\n",
        "Great! Now we have code to tell us which hospital to send someone to... but we don't know where that hospital is. The next function we need to create is one that looks up the address of that hospital.  All of these hospitals are in Atlanta, Georgia.  We're going to use the list from this webpage to lookup the address for that hospital, based on its name.  https://www.officialusa.com/stateguides/health/hospitals/georgia.html\n",
        "\n",
        "Because we skipped the section about Beautiful Soup and working with HTML, I've converted this information into a JSON document for you.  It's available for you here.  Your code should retrieve this file using the `requests` module.\n",
        "\n",
        "`https://drive.google.com/uc?export=download&id=1fIFD-NkcdiMu941N4GjyMDWxiKsFJBw-`\n",
        "\n",
        "1. You need to create a function called **get_address()** that takes hospital name as a parameter and searches the data from this JSON file for the hospital you want to find.\n",
        "2. Your code will have to load the JSON and return the correct hospital based on name.\n",
        "3. If the hospital name isn't found, the function should return None.\n",
        "4. Be sure to use good docstring documentation and includes at least 3 test cases."
      ]
    },
    {
      "cell_type": "code",
      "execution_count": 99,
      "metadata": {
        "id": "5Aoqjp7TdtGI"
      },
      "outputs": [],
      "source": [
        "import json\n",
        "\n",
        "def get_address(hospital_name):\n",
        "    \"\"\"(str)-->str\n",
        "\n",
        "    hospital_name (str): The name of the hospital to search for\n",
        "\n",
        "    >>> print(get_address('COOK MEDICAL CENTER'))\n",
        "    706 NORTH PARRISH AVENUE\n",
        "\n",
        "    >>> print(get_address('Piedmont Hospital'))\n",
        "    1968 PEACHTREE ROAD NW\n",
        "\n",
        "    >>> print(get_address('Foo Hospital'))\n",
        "    None\n",
        "\n",
        "    \"\"\"\n",
        "    url = f\"https://drive.google.com/uc?export=download&id=1fIFD-NkcdiMu941N4GjyMDWxiKsFJBw-\"\n",
        "    response = requests.get(url)\n",
        "    data = response.json()\n",
        "\n",
        "    for hospital in data:\n",
        "        if hospital.lower() == hospital_name.lower():\n",
        "            return data[hospital].get(\"ADDRESS\")\n",
        "\n",
        "    return None\n"
      ]
    },
    {
      "cell_type": "code",
      "source": [
        "print(get_address('COOK MEDICAL CENTER'))\n",
        "\n",
        "print(get_address('Piedmont Hospital'))\n",
        "\n",
        "print(get_address('Foo Hospital'))"
      ],
      "metadata": {
        "id": "IqxutL2hS8zr",
        "outputId": "dcac5ed3-9400-478c-d1ac-6e3b0a88ed11",
        "colab": {
          "base_uri": "https://localhost:8080/"
        }
      },
      "execution_count": 100,
      "outputs": [
        {
          "output_type": "stream",
          "name": "stdout",
          "text": [
            "706 NORTH PARRISH AVENUE\n",
            "1968 PEACHTREE ROAD NW\n",
            "None\n"
          ]
        }
      ]
    },
    {
      "cell_type": "markdown",
      "metadata": {
        "id": "d6hrqIMSdtGI"
      },
      "source": [
        "## Part 4: Run the risk calculator on a population\n",
        "\n",
        "At the link below, there is a file called `people.psv`.  It is a pipe-delimited (`|`) file with columns that match the inputs for the PRIEST calculation above.  Your code should use the `requests` module to retrieve the file from this URL.\n",
        "\n",
        "`https://drive.google.com/uc?export=download&id=1fLxJN9YGUqmqExrilxSS8furwUER5HHh`\n",
        "\n",
        "\n",
        "In addition, the file has a patient identifier in the first column.\n",
        "\n",
        "1. Write a function called **process_people()** that takes the file location above as its only parameter. Your Python program should use your code above to process all of these rows, determine the hospital and address, and return a list whose items are a dictionary like this: `{ patient_number: [sex, age, breath, o2sat, heart, systolic, temp, alertness, inspired, status, hospital, address]}`.  Look at the file in Part 5 for what the output looks like.\n",
        "2. Be sure to use good docstrings, but you don't need any tests in your doc strings.  I've provided those for you withe file in Part 5.\n",
        "\n",
        "\n",
        "**NOTE** that when running your code for all the 100 records in the `people.psv` file, it may take a few minutes to complete.  You're making multiple calls to the internet for each record, so that can take a little while.\n"
      ]
    },
    {
      "cell_type": "code",
      "execution_count": 101,
      "metadata": {
        "id": "3WYK17QRdtGI"
      },
      "outputs": [],
      "source": [
        "import csv\n",
        "def process_people(file):\n",
        "    \"\"\"\n",
        "    process_people(str) -> file(dict)\n",
        "\n",
        "    --> import psv file and converting into csv\n",
        "\n",
        "    --> return [list]\n",
        "\n",
        "\n",
        "    \"\"\"\n",
        "    try:\n",
        "        finaldata = {}\n",
        "        response = req.get(\"https://drive.google.com/uc?export=download&id=1fLxJN9YGUqmqExrilxSS8furwUER5HHh\")\n",
        "        if response.status_code == 200:\n",
        "            data = response.text.split(\"\\n\")\n",
        "            data = csv.reader(data, delimiter='|')\n",
        "            next(data)\n",
        "            for row in data:\n",
        "                if all(field == '' for field in row):\n",
        "                    break\n",
        "\n",
        "                patient, sex, age, resp_rate, oxy_sat, heart_rate, systolic_bp, temper, alert_value, in_oxy, perform_stat = row\n",
        "\n",
        "                risk = priest(sex, float(age), float(resp_rate), float(oxy_sat), float(heart_rate), float(systolic_bp), float(temper), alert_value, in_oxy, perform_stat)\n",
        "\n",
        "                hosp_name = find_hospital(int(age), sex, risk)\n",
        "\n",
        "                address = get_address(hosp_name)\n",
        "\n",
        "                list = [sex, float(age), float(resp_rate), float(oxy_sat), float(heart_rate), float(systolic_bp), float(temper), alert_value, in_oxy, perform_stat, risk, hosp_name, address]\n",
        "\n",
        "                finaldata[patient] = list\n",
        "\n",
        "\n",
        "\n",
        "            return finaldata\n",
        "\n",
        "        else:\n",
        "            return \" \"\n",
        "    except Exception as err:\n",
        "        print(\"ERROR OCCURED WHILE ACCESSING LINK\")\n",
        "        return \" \""
      ]
    },
    {
      "cell_type": "markdown",
      "metadata": {
        "id": "gGsoejfhdtGI"
      },
      "source": [
        "## Part 5: Checking your final results\n",
        "\n",
        "The final step is to check your results.  You should be able to compare your results to the output in `people_results.json` at the link below.  Write some code to check your results.  This does not need to be a function.\n",
        "\n",
        "`https://drive.google.com/uc?export=download&id=1gx1SSC20mO5XL6uYD0mdcM_cL91fcIW5`\n"
      ]
    },
    {
      "cell_type": "code",
      "execution_count": 102,
      "metadata": {
        "id": "26Ir3a3vdtGI",
        "outputId": "2b1b5227-05ad-40c8-9601-46fae6702834",
        "colab": {
          "base_uri": "https://localhost:8080/"
        }
      },
      "outputs": [
        {
          "output_type": "stream",
          "name": "stdout",
          "text": [
            "ERROR OCCURED WHILE ACCESSING LINK\n",
            "Data is Not equal\n"
          ]
        }
      ],
      "source": [
        "import requests as req\n",
        "import json as js\n",
        "\n",
        "\"\"\"\n",
        "\n",
        "\"\"\"\n",
        "\n",
        "url = \"https://hds5210-data.s3.amazonaws.com/people_results.json\"\n",
        "headers = {'Accept' : 'application/json'}\n",
        "\n",
        "try:\n",
        "    exp= req.get(url, headers=headers)\n",
        "    if exp.status_code == 200:\n",
        "        first = exp.json()\n",
        "        second = process_people(\"https://hds5210-data.s3.amazonaws.com/people.psv\")\n",
        "\n",
        "\n",
        "        firstString1 = json.dumps(first)\n",
        "        secondString1 = json.dumps(second)\n",
        "\n",
        "        firstString2 = json.loads(firstString1)\n",
        "        secondString2 = json.loads(secondString1)\n",
        "\n",
        "    if firstString2 == secondString2:\n",
        "        print(\"Data is equal\")\n",
        "    else:\n",
        "        print(\"Data is Not equal\")\n",
        "\n",
        "\n",
        "except Exception as err:\n",
        "  print(\"Error in The Link\")"
      ]
    },
    {
      "cell_type": "markdown",
      "metadata": {
        "id": "XBXm1xv1dtGI"
      },
      "source": [
        "---\n",
        "\n",
        "## Check your work above\n",
        "\n",
        "If you didn't get them all correct, take a few minutes to think through those that aren't correct.\n",
        "\n",
        "\n",
        "## Submitting Your Work\n",
        "\n",
        "Submit your work as usual into a folder named `midterm`"
      ]
    },
    {
      "cell_type": "markdown",
      "metadata": {
        "id": "mvP255_EdtGI"
      },
      "source": [
        "---"
      ]
    }
  ],
  "metadata": {
    "kernelspec": {
      "display_name": "Python 3",
      "language": "python",
      "name": "python3"
    },
    "language_info": {
      "codemirror_mode": {
        "name": "ipython",
        "version": 3
      },
      "file_extension": ".py",
      "mimetype": "text/x-python",
      "name": "python",
      "nbconvert_exporter": "python",
      "pygments_lexer": "ipython3",
      "version": "3.9.16"
    },
    "colab": {
      "provenance": []
    }
  },
  "nbformat": 4,
  "nbformat_minor": 0
}