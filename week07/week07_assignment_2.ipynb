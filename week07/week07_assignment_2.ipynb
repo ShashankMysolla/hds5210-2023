{
  "cells": [
    {
      "cell_type": "markdown",
      "metadata": {
        "id": "ZZN0P5qHq6jU"
      },
      "source": [
        "# Week 7 Assignment\n",
        "\n",
        "We've been working with different types of data structures in Python (dictionary, list, etc), how those are represented in JSON documents, and how to write code to access specific data elements. In this week's assignment, you will need to create your own JSON document to store information about yourself and the grades you've received from week 1 to week 4 and the week 6 quiz.  That is, everything you should have received a grade for.  Then you'll need to show me you know how to navigate the JSON in that file.\n",
        "\n",
        "Different from what we've done in the past, you do not have to write any functions or include any docstrings.  Just create some JSON and write some code.\n",
        "\n",
        "---"
      ]
    },
    {
      "cell_type": "markdown",
      "metadata": {
        "id": "qdIKMAIaq6jV"
      },
      "source": [
        "## 7.1 Create a JSON string\n",
        "\n",
        "Create a JSON string that contains your name, email, year you were born, all of the grades you've received back so far, and a comment about what you thought was most challenging on each of those assignments.  This can be any structure you choose, but make sure it uses a dictionary and a list, and has at least two levels of hierarchy.  That is, it can't just be one big long list."
      ]
    },
    {
      "cell_type": "markdown",
      "metadata": {
        "id": "_5yM-d57q6jW"
      },
      "source": [
        "* I am going to loop in assignment02 for my name,mail,birth year,total weeks and grades per week and added a comment.\n"
      ]
    },
    {
      "cell_type": "markdown",
      "metadata": {
        "id": "P2NztMBlq6jW"
      },
      "source": [
        "Then put the actual JSON you've created inside the multiline string below..."
      ]
    },
    {
      "cell_type": "code",
      "execution_count": 33,
      "metadata": {
        "id": "CZtN4meNq6jW"
      },
      "outputs": [],
      "source": [
        "hds5210 = \"\"\"\n",
        "{\n",
        "  \"assignment02\":{\n",
        "                \"name\": \"shashank\",\n",
        "                \"email\":\"smysolla@slu.edu\",\n",
        "                \"year_of_birth\":\"1997\",\n",
        "                \"weeks\":[\"week01\",\"week02\",\"week03\",\"week04\",\"week06\"],\n",
        "                \"grades\":{\n",
        "                          \"week01\":\"10\",\n",
        "                          \"week02\":\"9.5\",\n",
        "                          \"week03\":\"9\",\n",
        "                          \"week04\":\"10\",\n",
        "                          \"week06\":\"No Due Date\"\n",
        "                         },\n",
        "                \"comment\":\"week06 was challenging because we had more work to do in less time. \"\n",
        "               }\n",
        "}\n",
        "\"\"\""
      ]
    },
    {
      "cell_type": "markdown",
      "metadata": {
        "id": "5Vloyp6Bq6jW"
      },
      "source": [
        "## 7.2 Do something with your JSON\n",
        "\n",
        "Now use Python code to do something with the Json above.  Turn it into English text, but make sure that you use at least one loop to access some dict or list content of your JSON.  Below, I've provided some basic code to read in the string above as JSON and return a Python object.  Your job is to work with that data structure and print out the important information like your name, email, and how you did on each assignment."
      ]
    },
    {
      "cell_type": "code",
      "execution_count": 34,
      "metadata": {
        "id": "OYOplTY6q6jW",
        "outputId": "1f125903-3e81-44ef-c8d7-309c5b9e1ca4",
        "colab": {
          "base_uri": "https://localhost:8080/"
        }
      },
      "outputs": [
        {
          "output_type": "stream",
          "name": "stdout",
          "text": [
            "Hi,I am shashank and I was born in 1997.You can mail me on smysolla@slu.edu.\n",
            "Total number of weeks graded are 5 and I got 10 in 1st,9.5 in 2nd,9 in 3rd,10 in 4th and No Due Date was mentioned in 6th week assignment.\n",
            "week06 was challenging because we had more work to do in less time. \n"
          ]
        }
      ],
      "source": [
        "import json\n",
        "\n",
        "info = json.loads(hds5210)\n",
        "# Put your code to output a paragraph of English text here\n",
        "me = info[\"assignment02\"][\"name\"]\n",
        "my_email= info[\"assignment02\"][\"email\"]\n",
        "my_birth_year = info[\"assignment02\"][\"year_of_birth\"]\n",
        "total_weeks_graded = len(info[\"assignment02\"][\"weeks\"])\n",
        "grades_for_week01 = info[\"assignment02\"][\"grades\"][\"week01\"]\n",
        "grades_for_week02 = info[\"assignment02\"][\"grades\"][\"week02\"]\n",
        "grades_for_week03 = info[\"assignment02\"][\"grades\"][\"week03\"]\n",
        "grades_for_week04 = info[\"assignment02\"][\"grades\"][\"week04\"]\n",
        "grades_for_week06 = info[\"assignment02\"][\"grades\"][\"week06\"]\n",
        "comment = info[\"assignment02\"][\"comment\"]\n",
        "\n",
        "print(f\"Hi,I am {me} and I was born in {my_birth_year}.You can mail me on {my_email}.\")\n",
        "print(f\"Total number of weeks graded are {total_weeks_graded} and I got {grades_for_week01} in 1st,{grades_for_week02} in 2nd,{grades_for_week03} in 3rd,{grades_for_week04} in 4th and {grades_for_week06} was mentioned in 6th week assignment.\")\n",
        "print(f\"{comment}\")\n"
      ]
    },
    {
      "cell_type": "markdown",
      "metadata": {
        "id": "q0tENR7Dq6jX"
      },
      "source": [
        "## 7.3 Reflect\n",
        "\n",
        "Write a paragraph on any reflections you have. Was this hard? Easy?  What parts were most challenging or easiest? What did you like or dislike about the assignment?  Share whatever important thoughts you have abou this assignment."
      ]
    },
    {
      "cell_type": "markdown",
      "metadata": {
        "id": "R9V_k5R6q6jX"
      },
      "source": [
        "* Actually this was not really hard. The example you've provided has made it easy. The part i liked is creating the JSON file itself which made us know how it works and what all we could do using that.\n",
        "IMPORTANT THOUGHT: You gave us easy assignment before midterm and thank you for that professor."
      ]
    },
    {
      "cell_type": "markdown",
      "metadata": {
        "id": "A6wAXCkZq6jX"
      },
      "source": [
        "---\n",
        "\n",
        "# Example\n",
        "\n",
        "Below is an example of something similar, but this uses information my and my friend's kids instead of grades."
      ]
    },
    {
      "cell_type": "code",
      "execution_count": 35,
      "metadata": {
        "id": "TjT0jsT3q6jX",
        "outputId": "e6f9e6b7-0ffe-4fe6-a3cd-517b641fe8b5",
        "colab": {
          "base_uri": "https://localhost:8080/"
        }
      },
      "outputs": [
        {
          "output_type": "stream",
          "name": "stdout",
          "text": [
            "Hi, my name is Paul. I've got 3 kids. Their names are Ellie, Ada, Teddy.\n",
            "My friend, Anny has 1 kids. That's fewer than me. Their names are 1\n"
          ]
        }
      ],
      "source": [
        "hds5210 = \"\"\"\n",
        "{\n",
        "    \"me\": {\n",
        "        \"name\": \"Paul\",\n",
        "        \"kids\": [\"Ellie\", \"Ada\", \"Teddy\"]\n",
        "    },\n",
        "    \"friend\": {\n",
        "        \"name\": \"Anny\",\n",
        "        \"kids\": [\"Abby\"]\n",
        "    }\n",
        "}\n",
        "\"\"\"\n",
        "\n",
        "import json\n",
        "\n",
        "info = json.loads(hds5210)\n",
        "\n",
        "me = info[\"me\"][\"name\"]\n",
        "my_kids_count = len(info[\"me\"][\"kids\"])\n",
        "kids_list = \", \".join(info[\"me\"][\"kids\"])\n",
        "friend = info[\"friend\"][\"name\"]\n",
        "friends_kid_count = len(info[\"friend\"][\"kids\"])\n",
        "friend_kids = \", \".join(info[\"friend\"][\"kids\"])\n",
        "compare = \"more\" if friends_kid_count > my_kids_count else \"fewer\"\n",
        "\n",
        "print(f\"Hi, my name is {me}. I've got {my_kids_count} kids. Their names are {kids_list}.\")\n",
        "print(f\"My friend, {friend} has {friends_kid_count} kids. That's {compare} than me. Their names are {friends_kid_count}\")"
      ]
    }
  ],
  "metadata": {
    "kernelspec": {
      "display_name": "Python 3",
      "language": "python",
      "name": "python3"
    },
    "language_info": {
      "codemirror_mode": {
        "name": "ipython",
        "version": 3
      },
      "file_extension": ".py",
      "mimetype": "text/x-python",
      "name": "python",
      "nbconvert_exporter": "python",
      "pygments_lexer": "ipython3",
      "version": "3.9.16"
    },
    "colab": {
      "provenance": []
    }
  },
  "nbformat": 4,
  "nbformat_minor": 0
}